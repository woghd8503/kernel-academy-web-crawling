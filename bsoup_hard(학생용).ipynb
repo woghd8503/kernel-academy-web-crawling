{
  "nbformat": 4,
  "nbformat_minor": 5,
  "metadata": {
    "kernelspec": {
      "display_name": "Python 3",
      "language": "python",
      "name": "python3"
    },
    "language_info": {
      "codemirror_mode": {
        "name": "ipython",
        "version": 3
      },
      "file_extension": ".py",
      "mimetype": "text/x-python",
      "name": "python",
      "nbconvert_exporter": "python",
      "pygments_lexer": "ipython3",
      "version": "3.10.6"
    },
    "colab": {
      "provenance": [],
      "include_colab_link": true
    }
  },
  "cells": [
    {
      "cell_type": "markdown",
      "metadata": {
        "id": "view-in-github",
        "colab_type": "text"
      },
      "source": [
        "<a href=\"https://colab.research.google.com/github/woghd8503/kernel-academy-web-crawling/blob/main/bsoup_hard(%ED%95%99%EC%83%9D%EC%9A%A9).ipynb\" target=\"_parent\"><img src=\"https://colab.research.google.com/assets/colab-badge.svg\" alt=\"Open In Colab\"/></a>"
      ]
    },
    {
      "cell_type": "markdown",
      "metadata": {
        "id": "JrI5woHACWT4"
      },
      "source": [
        "# 웹 데이터 수집 고급 심화: \"Books to Scrape\" 사이트 정복하기 📚🐛 (고급)\n",
        "\n",
        "안녕하세요! 이전 과정들을 통해 웹 스크래핑의 기초와 중급 기술들을 익혔습니다. 이번 고급 심화 과정에서는 스크래핑 연습용으로 만들어진 \"Books to Scrape\" ([http://books.toscrape.com/](http://books.toscrape.com/)) 사이트를 대상으로, 보다 복잡하고 실제적인 스크래핑 작업을 수행해 보겠습니다.\n",
        "\n",
        "**학습 목표**\n",
        "1. 대상 웹사이트의 구조를 분석하고 스크래핑 전략 수립하기.\n",
        "2. 여러 계층(카테고리 목록 -> 책 목록 -> 책 상세)에 걸쳐 데이터 수집하기.\n",
        "3. 페이지네이션(Pagination) 처리, 데이터 클리닝, 상세 오류 처리 등 고급 기법 적용하기.\n",
        "4. 스크래핑 작업을 위한 함수를 모듈화하여 코드의 재사용성 및 가독성 높이기.\n",
        "5. 수집된 데이터를 구조화하고 파일로 저장하기.\n",
        "\n",
        "**준수 사항:** 웹 스크래핑 시에는 항상 해당 웹사이트의 `robots.txt` 파일과 이용 약관을 확인하고, 서버에 과도한 부담을 주지 않도록 주의해야 합니다. \"Books to Scrape\"는 학습 목적으로 자유로운 스크래핑이 허용된 사이트입니다.\n",
        "\n",
        "---"
      ],
      "id": "JrI5woHACWT4"
    },
    {
      "cell_type": "markdown",
      "metadata": {
        "id": "2gEwT4-HCWT8"
      },
      "source": [
        "## 📄 1단계: 사이트 분석 및 환경 설정\n",
        "\n",
        "스크래핑을 시작하기 전에 대상 웹사이트인 \"Books to Scrape\"의 구조를 파악하고, 필요한 라이브러리를 준비합니다.\n",
        "\n",
        "**1.1. `robots.txt` 확인**\n",
        "웹사이트의 루트 경로에 `/robots.txt`를 붙여 접속하면 (예: `http://books.toscrape.com/robots.txt`) 해당 파일의 내용을 확인할 수 있습니다. \"Books to Scrape\"의 `robots.txt`는 모든 유저 에이전트(`User-agent: *`)에 대해 모든 경로의 접근을 허용(`Disallow:` 항목 없음)하고 있습니다. 이는 학습용 사이트이므로 매우 관대한 정책입니다.\n",
        "\n",
        "**1.2. 사이트 구조 파악**\n",
        "* **메인 페이지**: 카테고리 목록(사이드바), 책 목록 표시.\n",
        "* **카테고리 페이지**: 특정 카테고리에 속한 책 목록 표시, 페이지네이션 존재.\n",
        "* **책 상세 페이지**: 개별 책의 상세 정보 (제목, 가격, 재고, 설명, UPC, 별점 등) 표시.\n",
        "\n",
        "**1.3. 필요한 라이브러리 임포트 및 기본 설정**"
      ],
      "id": "2gEwT4-HCWT8"
    },
    {
      "cell_type": "code",
      "execution_count": null,
      "metadata": {
        "id": "jRpx838WCWT9_student_imports"
      },
      "outputs": [],
      "source": [
        "# !pip install requests beautifulsoup4 pandas # Colab에 이미 설치되어 있다면 실행 불필요\n",
        "import requests\n",
        "from bs4 import BeautifulSoup\n",
        "import pandas as pd\n",
        "from urllib.parse import urljoin # 상대 URL을 절대 URL로 변환\n",
        "import time # 요청 간 지연시간 설정\n",
        "import re # 정규 표현식 사용\n",
        "import random # User-Agent 랜덤 선택용 (선택 사항)"
      ],
      "id": "jRpx838WCWT9_student_imports"
    },
    {
      "cell_type": "code",
      "execution_count": null,
      "metadata": {
        "id": "jRpx838WCWT9_student_baseurl"
      },
      "outputs": [],
      "source": [
        "# 기본 URL 설정\n",
        "BASE_URL = 'http://books.toscrape.com/'"
      ],
      "id": "jRpx838WCWT9_student_baseurl"
    },
    {
      "cell_type": "code",
      "execution_count": null,
      "metadata": {
        "id": "jRpx838WCWT9_student_catalogueurl"
      },
      "outputs": [],
      "source": [
        "CATALOGUE_URL = urljoin(BASE_URL, 'catalogue/') # 책 상세페이지 URL 조립 시 사용"
      ],
      "id": "jRpx838WCWT9_student_catalogueurl"
    },
    {
      "cell_type": "code",
      "execution_count": null,
      "metadata": {
        "id": "jRpx838WCWT9_student_useragent"
      },
      "outputs": [],
      "source": [
        "# User-Agent 설정 (다양한 User-Agent를 준비하여 랜덤으로 사용하는 것도 좋은 방법)\n",
        "USER_AGENTS = [\n",
        "    'Mozilla/5.0 (Windows NT 10.0; Win64; x64) AppleWebKit/537.36 (KHTML, like Gecko) Chrome/91.0.4472.124 Safari/537.36',\n",
        "    'Mozilla/5.0 (Macintosh; Intel Mac OS X 10_15_7) AppleWebKit/605.1.15 (KHTML, like Gecko) Version/14.1.1 Safari/605.1.15',\n",
        "    'Mozilla/5.0 (X11; Linux x86_64) AppleWebKit/537.36 (KHTML, like Gecko) Chrome/92.0.4515.107 Safari/537.36'\n",
        "]\n",
        "headers = {'User-Agent': random.choice(USER_AGENTS)}"
      ],
      "id": "jRpx838WCWT9_student_useragent"
    },
    {
      "cell_type": "code",
      "execution_count": null,
      "metadata": {
        "id": "jRpx838WCWT9_student_print_setup",
        "colab": {
          "base_uri": "https://localhost:8080/"
        },
        "outputId": "7eacfccf-5b9c-4349-9db6-6d1e4b22c70c"
      },
      "outputs": [
        {
          "output_type": "stream",
          "name": "stdout",
          "text": [
            "스크래핑 기본 URL: http://books.toscrape.com/\n",
            "사용될 User-Agent: Mozilla/5.0 (X11; Linux x86_64) AppleWebKit/537.36 (KHTML, like Gecko) Chrome/92.0.4515.107 Safari/537.36\n"
          ]
        }
      ],
      "source": [
        "print(f\"스크래핑 기본 URL: {BASE_URL}\")\n",
        "print(f\"사용될 User-Agent: {headers['User-Agent']}\")"
      ],
      "id": "jRpx838WCWT9_student_print_setup"
    },
    {
      "cell_type": "markdown",
      "metadata": {
        "id": "1QxktJWeCWT_"
      },
      "source": [
        "**1.4. 웹 페이지 요청 함수 정의**\n",
        "\n",
        "안정적인 스크래핑을 위해 `User-Agent` 설정, 요청 간 지연, 기본적인 오류 처리를 포함하는 웹 페이지 요청 함수를 정의합니다."
      ],
      "id": "1QxktJWeCWT_"
    },
    {
      "cell_type": "code",
      "source": [
        "time.sleep(10)"
      ],
      "metadata": {
        "id": "s1LzaXHUlrrQ"
      },
      "id": "s1LzaXHUlrrQ",
      "execution_count": null,
      "outputs": []
    },
    {
      "cell_type": "code",
      "execution_count": null,
      "metadata": {
        "id": "VEbTUDPSCWUA_student_func_def"
      },
      "outputs": [],
      "source": [
        "def get_soup(url, retries=3, delay=1):\n",
        "    \"\"\"지정된 URL로부터 BeautifulSoup 객체를 반환하는 함수\"\"\"\n",
        "    for i in range(retries):\n",
        "        try:\n",
        "            print(f\"페이지 요청 중 ({i+1}번째 시도): {url}\")\n",
        "            time.sleep(random.uniform(delay, delay + 1)) # delay가 만약 1이라면, 1~2초사이 기다렸다가 실행\n",
        "            response = requests.get(url, headers=headers, timeout=15) # timeout 시간만큼 기다린다\n",
        "            response.raise_for_status() # HTTP 오류 발생 시 [400,404,500~] 그냥 진행하지말고  파이썬 에러 발생\n",
        "            return BeautifulSoup(response.content, 'html.parser')\n",
        "\n",
        "        except requests.exceptions.Timeout:\n",
        "            print(f\"타임아웃 발생: {url}\")\n",
        "\n",
        "        except requests.exceptions.HTTPError as e: # HTTPError 예외 타입\n",
        "            print(f\"HTTP 오류 발생 ({url}): {e.status_code} {e.response.reason}\")\n",
        "            if e.response.status_code == 404: # 404\n",
        "                print(\"404 Not Found. 해당 URL은 존재하지 않습니다.\")\n",
        "                return None # 404 에러 시 재시도 불필요\n",
        "\n",
        "        except requests.exceptions.RequestException as e:\n",
        "            print(f\"요청 중 오류 발생 ({url}): {e}\")\n",
        "\n",
        "        if i < retries - 1: # 마지막 시도가 아니면 대기 후 재시도\n",
        "            print(f\"{delay * (i+1)}초 후 재시도...\")\n",
        "            time.sleep(delay * (i+1)) # time.sleep\n",
        "        else:\n",
        "            print(f\"최대 재시도 횟수({retries}) 초과. {url} 요청 실패.\")\n",
        "    return None"
      ],
      "id": "VEbTUDPSCWUA_student_func_def"
    },
    {
      "cell_type": "code",
      "execution_count": null,
      "metadata": {
        "id": "VEbTUDPSCWUA_student_func_test_call",
        "colab": {
          "base_uri": "https://localhost:8080/"
        },
        "outputId": "1abc200d-f818-4dcf-c417-82922835d9de"
      },
      "outputs": [
        {
          "output_type": "stream",
          "name": "stdout",
          "text": [
            "페이지 요청 중 (1번째 시도): http://books.toscrape.com/\n"
          ]
        }
      ],
      "source": [
        "# 함수 테스트 (메인 페이지)\n",
        "main_soup = get_soup(BASE_URL) # get_soup"
      ],
      "id": "VEbTUDPSCWUA_student_func_test_call"
    },
    {
      "cell_type": "code",
      "execution_count": null,
      "metadata": {
        "id": "VEbTUDPSCWUA_student_func_test_print",
        "colab": {
          "base_uri": "https://localhost:8080/"
        },
        "outputId": "f54bc393-ada8-4955-b87f-1a44c316c79d"
      },
      "outputs": [
        {
          "output_type": "stream",
          "name": "stdout",
          "text": [
            "\n",
            "메인 페이지 제목: All products | Books to Scrape - Sandbox\n"
          ]
        }
      ],
      "source": [
        "if main_soup:\n",
        "    print(f\"\\n메인 페이지 제목: {main_soup.title.string.strip()}\")\n",
        "else:\n",
        "    print(\"\\n메인 페이지 로드 실패.\")"
      ],
      "id": "VEbTUDPSCWUA_student_func_test_print"
    },
    {
      "cell_type": "markdown",
      "metadata": {
        "id": "3eQBpk7lCWUA"
      },
      "source": [
        "## 📚 2단계: 카테고리 및 책 URL 수집\n",
        "\n",
        "이제 사이트의 모든 카테고리 링크를 수집하고, 각 카테고리 페이지를 탐색하여 개별 책들의 상세 페이지 URL을 수집합니다."
      ],
      "id": "3eQBpk7lCWUA"
    },
    {
      "cell_type": "markdown",
      "metadata": {
        "id": "0BU7baipCWUA"
      },
      "source": [
        "**2.1. 모든 카테고리 URL 수집**\n",
        "\n",
        "메인 페이지의 사이드바에는 책 카테고리 목록이 있습니다. 각 카테고리명과 해당 카테고리 페이지로 연결되는 URL을 추출합니다."
      ],
      "id": "0BU7baipCWUA"
    },
    {
      "cell_type": "code",
      "execution_count": null,
      "metadata": {
        "id": "-UzIZnDmCWUA_student_func_def"
      },
      "outputs": [],
      "source": [
        "def get_category_urls(soup):\n",
        "    \"\"\"메인 페이지 BeautifulSoup 객체에서 모든 카테고리 이름과 URL을 추출하는 함수\"\"\"\n",
        "    category_links = []\n",
        "    if not soup:\n",
        "        return category_links\n",
        "\n",
        "    # 사이드바의 카테고리 목록은 ul.nav-list > li > ul > li > a 형태\n",
        "    # 좀 더 구체적으로는 div.side_categories > ul.nav-list > li > ul 카테고리 리스트 최종 태그가 존재 하는곳\n",
        "    side_categories_ul = soup.select_one('div.side_categories > ul.nav-list > li > ul') # CSS 선택자\n",
        "    if side_categories_ul:\n",
        "        for li_tag in side_categories_ul.find_all('li'):\n",
        "            a_tag = li_tag.find('a')\n",
        "            if a_tag and a_tag.has_attr('href'):\n",
        "                category_name = a_tag.get_text(strip=True)\n",
        "                category_relative_url = a_tag['href']\n",
        "                category_full_url = urljoin(BASE_URL, category_relative_url)\n",
        "                category_links.append({'name': category_name, 'url': category_full_url})\n",
        "    return category_links"
      ],
      "id": "-UzIZnDmCWUA_student_func_def"
    },
    {
      "cell_type": "code",
      "execution_count": null,
      "metadata": {
        "id": "-UzIZnDmCWUA_student_func_test",
        "colab": {
          "base_uri": "https://localhost:8080/"
        },
        "outputId": "4f6b2b47-df49-4df5-d3a7-330bc03e723b"
      },
      "outputs": [
        {
          "output_type": "stream",
          "name": "stdout",
          "text": [
            "\n",
            "총 50개의 카테고리를 찾았습니다.\n",
            "{'name': 'Travel', 'url': 'http://books.toscrape.com/catalogue/category/books/travel_2/index.html'}\n",
            "{'name': 'Mystery', 'url': 'http://books.toscrape.com/catalogue/category/books/mystery_3/index.html'}\n",
            "{'name': 'Historical Fiction', 'url': 'http://books.toscrape.com/catalogue/category/books/historical-fiction_4/index.html'}\n"
          ]
        }
      ],
      "source": [
        "if main_soup:\n",
        "    all_categories = get_category_urls(main_soup) # get_category_urls\n",
        "    print(f\"\\n총 {len(all_categories)}개의 카테고리를 찾았습니다.\")\n",
        "    for cat in all_categories[:3]: # 처음 3개 카테고리 정보 출력\n",
        "        print(cat)\n",
        "else:\n",
        "    all_categories = []\n",
        "    print(\"\\n메인 페이지 soup 객체가 없어 카테고리를 찾을 수 없습니다.\")"
      ],
      "id": "-UzIZnDmCWUA_student_func_test"
    },
    {
      "cell_type": "markdown",
      "metadata": {
        "id": "eaQWRoamCWUB"
      },
      "source": [
        "**2.2. 특정 카테고리 내 모든 책 URL 수집 (페이지네이션 처리 포함)**\n",
        "\n",
        "카테고리 페이지에는 여러 권의 책이 나열되며, 책이 많을 경우 여러 페이지에 걸쳐 표시됩니다 ('Next' 버튼 존재).\n",
        "하나의 카테고리 URL을 입력받아, 해당 카테고리의 모든 페이지를 방문하며 각 책의 상세 페이지 URL을 수집하는 함수를 작성합니다.\n",
        "여기서는 학습을 위해 각 카테고리당 최대 페이지 수를 제한할 수 있습니다."
      ],
      "id": "eaQWRoamCWUB"
    },
    {
      "cell_type": "code",
      "execution_count": null,
      "metadata": {
        "id": "bKJEECu9CWUB_student_func_def"
      },
      "outputs": [],
      "source": [
        "def get_book_urls_from_category(category_url, max_pages_per_category=5):\n",
        "    \"\"\"특정 카테고리 페이지(및 하위 페이지)에서 모든 책의 상세 URL을 수집하는 함수\"\"\"\n",
        "    book_urls = set() # 중복 방지를 위해 set 사용\n",
        "    current_page_url = category_url\n",
        "    pages_crawled = 0\n",
        "\n",
        "    while current_page_url and pages_crawled < max_pages_per_category:\n",
        "        category_soup = get_soup(current_page_url) # get_soup\n",
        "        pages_crawled += 1\n",
        "\n",
        "        if not category_soup:\n",
        "            print(f\"카테고리 페이지 로드 실패: {current_page_url}\")\n",
        "            break\n",
        "\n",
        "        # article.product_pod > div.image_container > a > img\n",
        "        # or article.product_pod > h3 > a 두개가 존재\n",
        "        for book_pod in category_soup.select('article.product_pod'):\n",
        "            book_link_tag = book_pod.select_one('h3 > a')\n",
        "            if book_link_tag and book_link_tag.has_attr('href'): # book link가 있고 그 링크에 하이퍼 링크가 있느냐?(href)\n",
        "                # 앞에 상대 경로는 current ~ 안에 다 있음\n",
        "                book_relative_url = book_link_tag['href'].replace('../', '') # 경로 조정\n",
        "                book_full_url = urljoin(CATALOGUE_URL, book_relative_url)\n",
        "                book_urls.add(book_full_url) # list의 append와 동일\n",
        "\n",
        "\n",
        "\n",
        "        # 다음 페이지(Next) 버튼 찾기\n",
        "        next_button = category_soup.select_one('li.next > a') # CSS 선택자 for next button\n",
        "        if next_button and next_button.has_attr('href'):\n",
        "            next_page_relative_url = next_button['href']\n",
        "            current_page_url = urljoin(current_page_url, next_page_relative_url)\n",
        "        else:\n",
        "            print(f'{category_url} 카테고리의 마지막 페이지에 도달했거나, 다음 페이지 버튼이 없습니다!')\n",
        "            current_page_url = None #반복 종료\n",
        "\n",
        "    return list(book_urls)"
      ],
      "id": "bKJEECu9CWUB_student_func_def"
    },
    {
      "cell_type": "code",
      "execution_count": null,
      "metadata": {
        "id": "bKJEECu9CWUB_student_test_setup",
        "colab": {
          "base_uri": "https://localhost:8080/"
        },
        "outputId": "08692843-e5ce-43ec-a0cd-fe9230e0149f"
      },
      "outputs": [
        {
          "output_type": "execute_result",
          "data": {
            "text/plain": [
              "[{'name': 'Travel',\n",
              "  'url': 'http://books.toscrape.com/catalogue/category/books/travel_2/index.html'},\n",
              " {'name': 'Mystery',\n",
              "  'url': 'http://books.toscrape.com/catalogue/category/books/mystery_3/index.html'},\n",
              " {'name': 'Historical Fiction',\n",
              "  'url': 'http://books.toscrape.com/catalogue/category/books/historical-fiction_4/index.html'},\n",
              " {'name': 'Sequential Art',\n",
              "  'url': 'http://books.toscrape.com/catalogue/category/books/sequential-art_5/index.html'},\n",
              " {'name': 'Classics',\n",
              "  'url': 'http://books.toscrape.com/catalogue/category/books/classics_6/index.html'},\n",
              " {'name': 'Philosophy',\n",
              "  'url': 'http://books.toscrape.com/catalogue/category/books/philosophy_7/index.html'},\n",
              " {'name': 'Romance',\n",
              "  'url': 'http://books.toscrape.com/catalogue/category/books/romance_8/index.html'},\n",
              " {'name': 'Womens Fiction',\n",
              "  'url': 'http://books.toscrape.com/catalogue/category/books/womens-fiction_9/index.html'},\n",
              " {'name': 'Fiction',\n",
              "  'url': 'http://books.toscrape.com/catalogue/category/books/fiction_10/index.html'},\n",
              " {'name': 'Childrens',\n",
              "  'url': 'http://books.toscrape.com/catalogue/category/books/childrens_11/index.html'},\n",
              " {'name': 'Religion',\n",
              "  'url': 'http://books.toscrape.com/catalogue/category/books/religion_12/index.html'},\n",
              " {'name': 'Nonfiction',\n",
              "  'url': 'http://books.toscrape.com/catalogue/category/books/nonfiction_13/index.html'},\n",
              " {'name': 'Music',\n",
              "  'url': 'http://books.toscrape.com/catalogue/category/books/music_14/index.html'},\n",
              " {'name': 'Default',\n",
              "  'url': 'http://books.toscrape.com/catalogue/category/books/default_15/index.html'},\n",
              " {'name': 'Science Fiction',\n",
              "  'url': 'http://books.toscrape.com/catalogue/category/books/science-fiction_16/index.html'},\n",
              " {'name': 'Sports and Games',\n",
              "  'url': 'http://books.toscrape.com/catalogue/category/books/sports-and-games_17/index.html'},\n",
              " {'name': 'Add a comment',\n",
              "  'url': 'http://books.toscrape.com/catalogue/category/books/add-a-comment_18/index.html'},\n",
              " {'name': 'Fantasy',\n",
              "  'url': 'http://books.toscrape.com/catalogue/category/books/fantasy_19/index.html'},\n",
              " {'name': 'New Adult',\n",
              "  'url': 'http://books.toscrape.com/catalogue/category/books/new-adult_20/index.html'},\n",
              " {'name': 'Young Adult',\n",
              "  'url': 'http://books.toscrape.com/catalogue/category/books/young-adult_21/index.html'},\n",
              " {'name': 'Science',\n",
              "  'url': 'http://books.toscrape.com/catalogue/category/books/science_22/index.html'},\n",
              " {'name': 'Poetry',\n",
              "  'url': 'http://books.toscrape.com/catalogue/category/books/poetry_23/index.html'},\n",
              " {'name': 'Paranormal',\n",
              "  'url': 'http://books.toscrape.com/catalogue/category/books/paranormal_24/index.html'},\n",
              " {'name': 'Art',\n",
              "  'url': 'http://books.toscrape.com/catalogue/category/books/art_25/index.html'},\n",
              " {'name': 'Psychology',\n",
              "  'url': 'http://books.toscrape.com/catalogue/category/books/psychology_26/index.html'},\n",
              " {'name': 'Autobiography',\n",
              "  'url': 'http://books.toscrape.com/catalogue/category/books/autobiography_27/index.html'},\n",
              " {'name': 'Parenting',\n",
              "  'url': 'http://books.toscrape.com/catalogue/category/books/parenting_28/index.html'},\n",
              " {'name': 'Adult Fiction',\n",
              "  'url': 'http://books.toscrape.com/catalogue/category/books/adult-fiction_29/index.html'},\n",
              " {'name': 'Humor',\n",
              "  'url': 'http://books.toscrape.com/catalogue/category/books/humor_30/index.html'},\n",
              " {'name': 'Horror',\n",
              "  'url': 'http://books.toscrape.com/catalogue/category/books/horror_31/index.html'},\n",
              " {'name': 'History',\n",
              "  'url': 'http://books.toscrape.com/catalogue/category/books/history_32/index.html'},\n",
              " {'name': 'Food and Drink',\n",
              "  'url': 'http://books.toscrape.com/catalogue/category/books/food-and-drink_33/index.html'},\n",
              " {'name': 'Christian Fiction',\n",
              "  'url': 'http://books.toscrape.com/catalogue/category/books/christian-fiction_34/index.html'},\n",
              " {'name': 'Business',\n",
              "  'url': 'http://books.toscrape.com/catalogue/category/books/business_35/index.html'},\n",
              " {'name': 'Biography',\n",
              "  'url': 'http://books.toscrape.com/catalogue/category/books/biography_36/index.html'},\n",
              " {'name': 'Thriller',\n",
              "  'url': 'http://books.toscrape.com/catalogue/category/books/thriller_37/index.html'},\n",
              " {'name': 'Contemporary',\n",
              "  'url': 'http://books.toscrape.com/catalogue/category/books/contemporary_38/index.html'},\n",
              " {'name': 'Spirituality',\n",
              "  'url': 'http://books.toscrape.com/catalogue/category/books/spirituality_39/index.html'},\n",
              " {'name': 'Academic',\n",
              "  'url': 'http://books.toscrape.com/catalogue/category/books/academic_40/index.html'},\n",
              " {'name': 'Self Help',\n",
              "  'url': 'http://books.toscrape.com/catalogue/category/books/self-help_41/index.html'},\n",
              " {'name': 'Historical',\n",
              "  'url': 'http://books.toscrape.com/catalogue/category/books/historical_42/index.html'},\n",
              " {'name': 'Christian',\n",
              "  'url': 'http://books.toscrape.com/catalogue/category/books/christian_43/index.html'},\n",
              " {'name': 'Suspense',\n",
              "  'url': 'http://books.toscrape.com/catalogue/category/books/suspense_44/index.html'},\n",
              " {'name': 'Short Stories',\n",
              "  'url': 'http://books.toscrape.com/catalogue/category/books/short-stories_45/index.html'},\n",
              " {'name': 'Novels',\n",
              "  'url': 'http://books.toscrape.com/catalogue/category/books/novels_46/index.html'},\n",
              " {'name': 'Health',\n",
              "  'url': 'http://books.toscrape.com/catalogue/category/books/health_47/index.html'},\n",
              " {'name': 'Politics',\n",
              "  'url': 'http://books.toscrape.com/catalogue/category/books/politics_48/index.html'},\n",
              " {'name': 'Cultural',\n",
              "  'url': 'http://books.toscrape.com/catalogue/category/books/cultural_49/index.html'},\n",
              " {'name': 'Erotica',\n",
              "  'url': 'http://books.toscrape.com/catalogue/category/books/erotica_50/index.html'},\n",
              " {'name': 'Crime',\n",
              "  'url': 'http://books.toscrape.com/catalogue/category/books/crime_51/index.html'}]"
            ]
          },
          "metadata": {},
          "execution_count": 15
        }
      ],
      "source": [
        "# 테스트: 첫 번째 카테고리에 대해서만 책 URL 수집 (최대 2페이지만)\n",
        "all_book_detail_urls = set()\n",
        "all_categories"
      ],
      "id": "bKJEECu9CWUB_student_test_setup"
    },
    {
      "cell_type": "code",
      "execution_count": null,
      "metadata": {
        "id": "bKJEECu9CWUB_student_test_logic",
        "colab": {
          "base_uri": "https://localhost:8080/"
        },
        "outputId": "0641bd62-22ba-4e6b-9336-f05e786c1fdc"
      },
      "outputs": [
        {
          "output_type": "stream",
          "name": "stdout",
          "text": [
            "{'name': 'Mystery', 'url': 'http://books.toscrape.com/catalogue/category/books/mystery_3/index.html'} 카테고리에서 정보 수집중\n",
            "페이지 요청 중 (1번째 시도): http://books.toscrape.com/catalogue/category/books/mystery_3/index.html\n",
            "페이지 요청 중 (1번째 시도): http://books.toscrape.com/catalogue/category/books/mystery_3/page-2.html\n",
            "http://books.toscrape.com/catalogue/category/books/mystery_3/index.html 카테고리의 마지막 페이지에 도달했거나, 다음 페이지 버튼이 없습니다!\n",
            "http://books.toscrape.com/catalogue/a-study-in-scarlet-sherlock-holmes-1_656/index.html\n",
            "http://books.toscrape.com/catalogue/1st-to-die-womens-murder-club-1_2/index.html\n",
            "http://books.toscrape.com/catalogue/the-mysterious-affair-at-styles-hercule-poirot-1_452/index.html\n",
            "http://books.toscrape.com/catalogue/the-girl-in-the-ice-dci-erika-foster-1_65/index.html\n",
            "http://books.toscrape.com/catalogue/the-silkworm-cormoran-strike-2_280/index.html\n",
            "http://books.toscrape.com/catalogue/blood-defense-samantha-brinkman-1_8/index.html\n",
            "http://books.toscrape.com/catalogue/hide-away-eve-duncan-20_620/index.html\n",
            "http://books.toscrape.com/catalogue/a-time-of-torment-charlie-parker-14_657/index.html\n",
            "http://books.toscrape.com/catalogue/the-murder-of-roger-ackroyd-hercule-poirot-4_852/index.html\n",
            "http://books.toscrape.com/catalogue/murder-at-the-42nd-street-library-raymond-ambler-1_624/index.html\n",
            "http://books.toscrape.com/catalogue/a-murder-in-time_877/index.html\n",
            "http://books.toscrape.com/catalogue/most-wanted_623/index.html\n",
            "http://books.toscrape.com/catalogue/delivering-the-truth-quaker-midwife-mystery-1_464/index.html\n",
            "http://books.toscrape.com/catalogue/the-past-never-ends_942/index.html\n",
            "http://books.toscrape.com/catalogue/sharp-objects_997/index.html\n",
            "http://books.toscrape.com/catalogue/the-girl-you-lost_66/index.html\n",
            "http://books.toscrape.com/catalogue/in-a-dark-dark-wood_963/index.html\n",
            "http://books.toscrape.com/catalogue/poisonous-max-revere-novels-3_627/index.html\n",
            "http://books.toscrape.com/catalogue/the-bachelor-girls-guide-to-murder-herringford-and-watts-mysteries-1_491/index.html\n",
            "http://books.toscrape.com/catalogue/what-happened-on-beale-street-secrets-of-the-south-mysteries-2_506/index.html\n",
            "http://books.toscrape.com/catalogue/playing-with-fire_602/index.html\n",
            "http://books.toscrape.com/catalogue/the-no-1-ladies-detective-agency-no-1-ladies-detective-agency-1_76/index.html\n",
            "http://books.toscrape.com/catalogue/the-widow_609/index.html\n",
            "http://books.toscrape.com/catalogue/the-last-mile-amos-decker-2_754/index.html\n",
            "http://books.toscrape.com/catalogue/career-of-evil-cormoran-strike-3_137/index.html\n",
            "http://books.toscrape.com/catalogue/the-exiled_247/index.html\n",
            "http://books.toscrape.com/catalogue/tastes-like-fear-di-marnie-rome-3_742/index.html\n",
            "http://books.toscrape.com/catalogue/that-darkness-gardiner-and-renner-1_743/index.html\n",
            "http://books.toscrape.com/catalogue/boar-island-anna-pigeon-19_613/index.html\n",
            "http://books.toscrape.com/catalogue/extreme-prey-lucas-davenport-26_154/index.html\n",
            "http://books.toscrape.com/catalogue/the-cuckoos-calling-cormoran-strike-1_239/index.html\n",
            "http://books.toscrape.com/catalogue/in-the-woods-dublin-murder-squad-1_433/index.html\n"
          ]
        }
      ],
      "source": [
        "if all_categories:\n",
        "    #sample_category = all_categories[0] # travel 카테고리\n",
        "    sample_category = all_categories[1] # mystery 카테고리\n",
        "    print(f'{sample_category} 카테고리에서 정보 수집중')\n",
        "    book_url_in_sample_category = get_book_urls_from_category(sample_category['url'],max_pages_per_category=2)\n",
        "    for url in book_url_in_sample_category:\n",
        "        print(url)\n",
        "else:\n",
        "    print(\"카테고리 정보가 없어 책 URL을 수집할 수 없습니다.\")"
      ],
      "id": "bKJEECu9CWUB_student_test_logic"
    },
    {
      "cell_type": "markdown",
      "metadata": {
        "id": "zl2gLIr5CWUC"
      },
      "source": [
        "## 📖 3단계: 개별 책 상세 정보 스크래핑\n",
        "\n",
        "수집된 각 책의 상세 페이지 URL로 접속하여 책의 제목, 가격, 재고 상태, 상품 설명, UPC, 별점 등 다양한 정보를 추출합니다."
      ],
      "id": "zl2gLIr5CWUC"
    },
    {
      "cell_type": "markdown",
      "metadata": {
        "id": "HhETfZr8CWUC"
      },
      "source": [
        "**3.1. 책 상세 정보 추출 함수 정의**\n",
        "\n",
        "이 함수는 하나의 책 상세 페이지 URL을 입력받아 해당 페이지의 모든 필요한 정보를 추출하여 딕셔너리 형태로 반환합니다.\n",
        "정보가 누락된 경우를 대비해 오류 처리 및 기본값 설정을 포함합니다."
      ],
      "id": "HhETfZr8CWUC"
    },
    {
      "cell_type": "code",
      "execution_count": null,
      "metadata": {
        "id": "pc20p1I5CWUC_student_func_def"
      },
      "outputs": [],
      "source": [
        "def scrape_book_details(book_url):\n",
        "    \"\"\"개별 책 상세 페이지에서 정보를 추출하는 함수\"\"\"\n",
        "    book_data = {'url': book_url} # 기본 정보로 URL 추가\n",
        "    soup = get_soup(book_url) # get_soup\n",
        "\n",
        "    if not soup:\n",
        "        print(f\"책 상세 정보 로드 실패: {book_url}\")\n",
        "        book_data['title'] = \"정보 없음 (로드 실패)\"\n",
        "        return book_data\n",
        "\n",
        "    # 제목 (h1 태그)\n",
        "    title_tag = soup.select_one('div.product_main > h1') # CSS 선택자 for title\n",
        "    book_data['title'] = title_tag.get_text(strip=True) if title_tag else None # get_text\n",
        "\n",
        "    # 가격 (p.price_color)\n",
        "    price_tag = soup.select_one('div.product_main > p.price_color') # CSS 선택자 for price\n",
        "    if price_tag:\n",
        "        price_tag = price_tag.get_text(strip=True) # 빈칸 제거 하기\n",
        "        book_data['price_raw'] = price_tag\n",
        "        try: # £ 말고 다른 단위가 있을수 있으니,\n",
        "            book_data['price'] = float(price_tag.replace('£', ''))\n",
        "        except ValueError:\n",
        "            book_data['price'] = None\n",
        "            print(f'가격 변환 오류 {price_tag}')\n",
        "    else:\n",
        "        book_data['price_raw'] = None\n",
        "        book_data['price'] =None\n",
        "\n",
        "\n",
        "    # 재고 상태 (p.instock.availability)\n",
        "    stock_tag = soup.select_one('div.product_main > p.instock.availability') # CSS 선택자 for stock\n",
        "    if stock_tag:\n",
        "        stock_text = stock_tag.get_text(strip=True) # 앞뒤 공백 제거\n",
        "        book_data['stock_availability_raw'] = stock_text\n",
        "        # In stock (14 available) -> 숫자만 추출 하려면 어떻게 해야할까?\n",
        "        # regex 정규표현식을 사용하자\n",
        "        # 괄호를 찾고 () 거기에서 '숫자' 만 찾는다\n",
        "        match = re.search(r'\\((\\d+) available\\)', stock_text)\n",
        "        # \\(\\) 괄호로 시작(해서 괄호로 끝나는 부분)을 찾아라\n",
        "        # \\d+ 숫자\n",
        "        if match:\n",
        "            book_data['stock_available_count'] = int(match.group(1)) # 매치된 데이터 한개 들고 와라\n",
        "        else:\n",
        "            book_data['stock_available_count'] = 0\n",
        "    else:\n",
        "        book_data['stock_availability_raw']= None\n",
        "        book_data['stock_available_count'] = 0\n",
        "\n",
        "\n",
        "    # 별점 (p.star-rating 에 붙은 클래스 이름으로 확인. 예: \"star-rating Four\")\n",
        "    # 별점은 숫자로 바꿔서 저장하기 !\n",
        "    star_rating_tag = soup.select_one('div.product_main > p.star-rating') # CSS 선택자 for star rating\n",
        "    if star_rating_tag and star_rating_tag.has_attr('class'): # 'class'\n",
        "        rating_classes = star_rating_tag['class']\n",
        "        rating_map = {'One' :1, 'Two': 2, 'Three':3, 'Four':4, 'Five':5}\n",
        "        book_data['star_rating'] = None\n",
        "        for r_class in rating_classes:\n",
        "            if r_class in rating_map:\n",
        "                book_data['star_rating'] = rating_map[r_class]\n",
        "                break\n",
        "\n",
        "    else:\n",
        "        book_data['star_rating'] = None\n",
        "\n",
        "    # 상품 설명 (div#product_description + p)\n",
        "    desc_header = soup.find('div', id='product_description') # find, 'product_description'\n",
        "    if desc_header and desc_header.find_next_sibling('p'): # find_next_sibling\n",
        "        book_data['description'] = desc_header.find_next_sibling('p').get_text(strip=True) # get_text\n",
        "        # prodcut_description 다음에 등장하는 p태그를 찾아라, 왜? -> 지금까지는 product_description안에 존재하는 특정 태그를 찾는 방식이였지만,\n",
        "        # 지금은 그 다음에 등장하는 p태그를 찾는게 목표다 왜 단독 으로 안찾냐? -> p태그는 너무 범용적으로 쓰이는 태그\n",
        "\n",
        "    else:\n",
        "        book_data['description'] = None\n",
        "\n",
        "    # 상품 정보 테이블 (UPC, Product Type, Price (excl. tax), etc.)\n",
        "    product_info_table = soup.find('table', class_='table-striped') # find, 'table-striped'\n",
        "    if product_info_table:\n",
        "        for row in product_info_table.find_all('tr'):\n",
        "            header = row.find('th').get_text(strip=True) if row.find('th') else None # get_text\n",
        "            value = row.find('td').get_text(strip=True) if row.find('td') else None # get_text\n",
        "            if header and value:\n",
        "                # 딕셔너리 구성해보자, 헤더 이름을 키로 사용, (공백과 특수문자도 제거해서) Regex를 사용!\n",
        "                # 여기부터 이어서 진행\n",
        "                # 안녕!!! 안녕하세요? ^^ -> regex !, # , 안^녕^? , 아!..배가..고,,프다..#강남#맛집#오늘의~~  -> regex 정규표현식\n",
        "                clean_header = re.sub(r'[^a-zA-Z0-9_]', '',header.lower().replace(' ', '_')) # re.sub, regex pattern for cleaning header\n",
        "                # 문자 단위 기준으로 생각하기, a부터 z, A부터 Z, 0부터 9 그리고 _ 까지는 제외하고(^) 나머지 문자들은 전부 제거\n",
        "                book_data[clean_header] = value\n",
        "                if header == 'UPC': book_data['upc'] = value # 'UPC'\n",
        "                if header == 'Availability': book_data['stock_from_table'] = value\n",
        "                if header == 'Number of reviews': book_data['num_reviews'] = int(value) if value.isdigit() else 0\n",
        "    return book_data"
      ],
      "id": "pc20p1I5CWUC_student_func_def"
    },
    {
      "cell_type": "code",
      "execution_count": null,
      "metadata": {
        "id": "pc20p1I5CWUC_student_test_setup"
      },
      "outputs": [],
      "source": [
        "# 함수 테스트 (이전에 수집한 책 URL 중 하나 사용)\n",
        "if book_url_in_sample_category:\n",
        "    sample_book_url = list(book_url_in_sample_category)[0] # index (e.g. 0)\n",
        "sample_book_url"
      ],
      "id": "pc20p1I5CWUC_student_test_setup"
    },
    {
      "cell_type": "code",
      "execution_count": null,
      "metadata": {
        "id": "pc20p1I5CWUC_student_test_call",
        "colab": {
          "base_uri": "https://localhost:8080/"
        },
        "outputId": "479d5768-9528-4f70-8634-254f00211c58"
      },
      "outputs": [
        {
          "output_type": "stream",
          "name": "stdout",
          "text": [
            "\n",
            "샘플 책 상세 정보 스크래핑: http://books.toscrape.com/catalogue/a-study-in-scarlet-sherlock-holmes-1_656/index.html\n",
            "페이지 요청 중 (1번째 시도): http://books.toscrape.com/catalogue/a-study-in-scarlet-sherlock-holmes-1_656/index.html\n"
          ]
        }
      ],
      "source": [
        "print(f\"\\n샘플 책 상세 정보 스크래핑: {sample_book_url}\")\n",
        "detailed_book_info = scrape_book_details(sample_book_url) # scrape_book_details"
      ],
      "id": "pc20p1I5CWUC_student_test_call"
    },
    {
      "cell_type": "code",
      "execution_count": null,
      "metadata": {
        "id": "pc20p1I5CWUC_student_test_print",
        "colab": {
          "base_uri": "https://localhost:8080/"
        },
        "outputId": "3d2046fd-73bf-417a-ce96-8203b699194e"
      },
      "outputs": [
        {
          "output_type": "stream",
          "name": "stdout",
          "text": [
            "url: http://books.toscrape.com/catalogue/a-study-in-scarlet-sherlock-holmes-1_656/index.html\n",
            "title: A Study in Scarlet (Sherlock Holmes #1)\n",
            "price_raw: £16.73\n",
            "price: 16.73\n",
            "stock_availability_raw: In stock (14 available)\n",
            "stock_available_count: 14\n",
            "star_rating: 2\n",
            "description: In the debut of literature's most famous sleuth, a dead man is discove...\n",
            "upc: 63ee5bc46066a8a8\n",
            "product_type: Books\n",
            "price_excl_tax: £16.73\n",
            "price_incl_tax: £16.73\n",
            "tax: £0.00\n",
            "availability: In stock (14 available)\n",
            "stock_from_table: In stock (14 available)\n",
            "number_of_reviews: 0\n",
            "num_reviews: 0\n"
          ]
        }
      ],
      "source": [
        "if detailed_book_info:\n",
        "    for key, value in detailed_book_info.items():\n",
        "        if key == 'description' and value and len(value) > 70:\n",
        "            print(f\"{key}: {value[:70]}...\")\n",
        "        else:\n",
        "            print(f\"{key}: {value}\")\n",
        "else:\n",
        "    print(\"\\n스크래핑할 책 URL이 없습니다.\")"
      ],
      "id": "pc20p1I5CWUC_student_test_print"
    },
    {
      "cell_type": "markdown",
      "metadata": {
        "id": "uInB9vLuCWUD"
      },
      "source": [
        "**3.2. 수집된 모든 책 URL에 대해 상세 정보 스크래핑 실행**\n",
        "\n",
        "이제 `get_book_urls_from_category` 함수로 모든 카테고리에서 책 URL들을 수집하고 (또는 선택한 몇 개 카테고리에서만), 각 URL에 대해 `scrape_book_details` 함수를 호출하여 전체 책 데이터를 만듭니다.\n",
        "실제 운영 시에는 매우 많은 요청이 발생할 수 있으므로, 여기서는 **일부 카테고리**와 각 카테고리당 **제한된 페이지 수**, 그리고 **전체 책 수 제한**을 두어 실습합니다."
      ],
      "id": "uInB9vLuCWUD"
    },
    {
      "cell_type": "code",
      "execution_count": null,
      "metadata": {
        "id": "oyou97UVCWUD_student_setup_vars"
      },
      "outputs": [],
      "source": [
        "final_book_data_list = []\n",
        "all_target_book_urls = set() # 최종적으로 스크랩할 책 URL들 (중복 제거)\n",
        "\n",
        "# 수집 대상 카테고리 수 제한 (예: 처음 2개 카테고리만)\n",
        "categories_to_scrape = all_categories[:2] if all_categories else [] # slice, e.g. :2\n",
        "MAX_BOOKS_TO_SCRAPE_TOTAL = 20 # 전체 스크래핑할 책의 최대 개수 (테스트용, e.g. 10)"
      ],
      "id": "oyou97UVCWUD_student_setup_vars"
    },
    {
      "cell_type": "code",
      "source": [
        "categories_to_scrape"
      ],
      "metadata": {
        "colab": {
          "base_uri": "https://localhost:8080/"
        },
        "id": "gmAKbyJBsVEk",
        "outputId": "7befa0ad-e9a0-4c92-8169-d3ccb73dd54d"
      },
      "id": "gmAKbyJBsVEk",
      "execution_count": null,
      "outputs": [
        {
          "output_type": "execute_result",
          "data": {
            "text/plain": [
              "[{'name': 'Travel',\n",
              "  'url': 'http://books.toscrape.com/catalogue/category/books/travel_2/index.html'},\n",
              " {'name': 'Mystery',\n",
              "  'url': 'http://books.toscrape.com/catalogue/category/books/mystery_3/index.html'}]"
            ]
          },
          "metadata": {},
          "execution_count": 29
        }
      ]
    },
    {
      "cell_type": "code",
      "execution_count": null,
      "metadata": {
        "id": "oyou97UVCWUD_student_collect_urls_loop",
        "colab": {
          "base_uri": "https://localhost:8080/"
        },
        "outputId": "fd0cc33a-fa71-4719-81f6-892e47b3be89"
      },
      "outputs": [
        {
          "output_type": "stream",
          "name": "stdout",
          "text": [
            "\n",
            "총 2개 카테고리에서 책 URL 수집 시작...\n",
            "'Travel' 카테고리 처리 중...\n",
            "페이지 요청 중 (1번째 시도): http://books.toscrape.com/catalogue/category/books/travel_2/index.html\n",
            "http://books.toscrape.com/catalogue/category/books/travel_2/index.html 카테고리의 마지막 페이지에 도달했거나, 다음 페이지 버튼이 없습니다!\n",
            "'Mystery' 카테고리 처리 중...\n",
            "페이지 요청 중 (1번째 시도): http://books.toscrape.com/catalogue/category/books/mystery_3/index.html\n",
            "전체 스크래핑할 책의 최대 개수에 도달했습니다.\n"
          ]
        }
      ],
      "source": [
        "print(f\"\\n총 {len(categories_to_scrape)}개 카테고리에서 책 URL 수집 시작...\")\n",
        "for category in categories_to_scrape:\n",
        "    print(f\"'{category['name']}' 카테고리 처리 중...\")\n",
        "    # 각 카테고리당 최대 1 페이지만 (시간 절약 위해)\n",
        "    book_urls = get_book_urls_from_category(category['url'], max_pages_per_category=1) # get_book_urls_from_category, page limit (e.g. 1)\n",
        "    for url in book_urls:\n",
        "        all_target_book_urls.add(url)\n",
        "        if len(all_target_book_urls) >= MAX_BOOKS_TO_SCRAPE_TOTAL: # MAX_BOOKS_TO_SCRAPE_TOTAL\n",
        "            break # 전체 책 수 제한 도달 시 URL 수집 중단\n",
        "    if len(all_target_book_urls) >= MAX_BOOKS_TO_SCRAPE_TOTAL: # MAX_BOOKS_TO_SCRAPE_TOTAL\n",
        "        print(\"전체 스크래핑할 책의 최대 개수에 도달했습니다.\")\n",
        "        break"
      ],
      "id": "oyou97UVCWUD_student_collect_urls_loop"
    },
    {
      "cell_type": "code",
      "execution_count": null,
      "metadata": {
        "id": "oyou97UVCWUD_student_scrape_details_loop",
        "colab": {
          "base_uri": "https://localhost:8080/"
        },
        "outputId": "26b8e91f-2fbd-4599-e8af-260d0d89fc8d"
      },
      "outputs": [
        {
          "output_type": "stream",
          "name": "stdout",
          "text": [
            "\n",
            "총 20개의 책 상세 정보를 스크래핑합니다.\n",
            "--- 1/20번째 책 스크래핑 시작 --- \n",
            "페이지 요청 중 (1번째 시도): http://books.toscrape.com/catalogue/a-study-in-scarlet-sherlock-holmes-1_656/index.html\n",
            "--- 2/20번째 책 스크래핑 시작 --- \n",
            "페이지 요청 중 (1번째 시도): http://books.toscrape.com/catalogue/full-moon-over-noahs-ark-an-odyssey-to-mount-ararat-and-beyond_811/index.html\n",
            "--- 3/20번째 책 스크래핑 시작 --- \n",
            "페이지 요청 중 (1번째 시도): http://books.toscrape.com/catalogue/hide-away-eve-duncan-20_620/index.html\n",
            "--- 4/20번째 책 스크래핑 시작 --- \n",
            "페이지 요청 중 (1번째 시도): http://books.toscrape.com/catalogue/a-time-of-torment-charlie-parker-14_657/index.html\n",
            "--- 5/20번째 책 스크래핑 시작 --- \n",
            "페이지 요청 중 (1번째 시도): http://books.toscrape.com/catalogue/the-murder-of-roger-ackroyd-hercule-poirot-4_852/index.html\n",
            "--- 6/20번째 책 스크래핑 시작 --- \n",
            "페이지 요청 중 (1번째 시도): http://books.toscrape.com/catalogue/murder-at-the-42nd-street-library-raymond-ambler-1_624/index.html\n",
            "--- 7/20번째 책 스크래핑 시작 --- \n",
            "페이지 요청 중 (1번째 시도): http://books.toscrape.com/catalogue/a-murder-in-time_877/index.html\n",
            "--- 8/20번째 책 스크래핑 시작 --- \n",
            "페이지 요청 중 (1번째 시도): http://books.toscrape.com/catalogue/under-the-tuscan-sun_504/index.html\n",
            "--- 9/20번째 책 스크래핑 시작 --- \n",
            "페이지 요청 중 (1번째 시도): http://books.toscrape.com/catalogue/most-wanted_623/index.html\n",
            "--- 10/20번째 책 스크래핑 시작 --- \n",
            "페이지 요청 중 (1번째 시도): http://books.toscrape.com/catalogue/delivering-the-truth-quaker-midwife-mystery-1_464/index.html\n",
            "--- 11/20번째 책 스크래핑 시작 --- \n",
            "페이지 요청 중 (1번째 시도): http://books.toscrape.com/catalogue/the-past-never-ends_942/index.html\n",
            "--- 12/20번째 책 스크래핑 시작 --- \n",
            "페이지 요청 중 (1번째 시도): http://books.toscrape.com/catalogue/1000-places-to-see-before-you-die_1/index.html\n",
            "--- 13/20번째 책 스크래핑 시작 --- \n",
            "페이지 요청 중 (1번째 시도): http://books.toscrape.com/catalogue/the-road-to-little-dribbling-adventures-of-an-american-in-britain-notes-from-a-small-island-2_277/index.html\n",
            "--- 14/20번째 책 스크래핑 시작 --- \n",
            "페이지 요청 중 (1번째 시도): http://books.toscrape.com/catalogue/a-summer-in-europe_458/index.html\n",
            "--- 15/20번째 책 스크래핑 시작 --- \n",
            "페이지 요청 중 (1번째 시도): http://books.toscrape.com/catalogue/the-great-railway-bazaar_446/index.html\n",
            "--- 16/20번째 책 스크래핑 시작 --- \n",
            "페이지 요청 중 (1번째 시도): http://books.toscrape.com/catalogue/its-only-the-himalayas_981/index.html\n",
            "--- 17/20번째 책 스크래핑 시작 --- \n",
            "페이지 요청 중 (1번째 시도): http://books.toscrape.com/catalogue/neither-here-nor-there-travels-in-europe_198/index.html\n",
            "--- 18/20번째 책 스크래핑 시작 --- \n",
            "페이지 요청 중 (1번째 시도): http://books.toscrape.com/catalogue/see-america-a-celebration-of-our-national-parks-treasured-sites_732/index.html\n",
            "--- 19/20번째 책 스크래핑 시작 --- \n",
            "페이지 요청 중 (1번째 시도): http://books.toscrape.com/catalogue/vagabonding-an-uncommon-guide-to-the-art-of-long-term-world-travel_552/index.html\n",
            "--- 20/20번째 책 스크래핑 시작 --- \n",
            "페이지 요청 중 (1번째 시도): http://books.toscrape.com/catalogue/a-year-in-provence-provence-1_421/index.html\n"
          ]
        }
      ],
      "source": [
        "print(f\"\\n총 {len(all_target_book_urls)}개의 책 상세 정보를 스크래핑합니다.\")\n",
        "for i, book_url in enumerate(list(all_target_book_urls)):\n",
        "    print(f\"--- {i+1}/{len(all_target_book_urls)}번째 책 스크래핑 시작 --- \")\n",
        "    book_info = scrape_book_details(book_url) # scrape_book_details\n",
        "    if book_info:\n",
        "        final_book_data_list.append(book_info)"
      ],
      "id": "oyou97UVCWUD_student_scrape_details_loop"
    },
    {
      "cell_type": "code",
      "execution_count": null,
      "metadata": {
        "id": "oyou97UVCWUD_student_print_results",
        "colab": {
          "base_uri": "https://localhost:8080/"
        },
        "outputId": "b00c74b9-bd11-46d9-c5f6-405857c7e790"
      },
      "outputs": [
        {
          "output_type": "stream",
          "name": "stdout",
          "text": [
            "\n",
            "총 20개의 책 상세 정보 수집 완료.\n",
            "수집된 첫 번째 책 정보:\n",
            "{'url': 'http://books.toscrape.com/catalogue/a-study-in-scarlet-sherlock-holmes-1_656/index.html', 'title': 'A Study in Scarlet (Sherlock Holmes #1)', 'price_raw': '£16.73', 'price': 16.73, 'stock_availability_raw': 'In stock (14 available)', 'stock_available_count': 14, 'star_rating': 2, 'description': \"In the debut of literature's most famous sleuth, a dead man is discovered in a bloodstained room in Brixton. The only clues are a wedding ring, a gold watch, a pocket edition of Boccaccio's Decameron, and a word scrawled in blood on the wall. With this investigation begins the partnership of Sherlock Holmes and Dr. Watson. Their search for the murderer uncovers a story of In the debut of literature's most famous sleuth, a dead man is discovered in a bloodstained room in Brixton. The only clues are a wedding ring, a gold watch, a pocket edition of Boccaccio's Decameron, and a word scrawled in blood on the wall. With this investigation begins the partnership of Sherlock Holmes and Dr. Watson. Their search for the murderer uncovers a story of love and revenge-and heralds a franchise of detective mysteries starring the formidable Holmes. ...more\", 'upc': '63ee5bc46066a8a8', 'product_type': 'Books', 'price_excl_tax': '£16.73', 'price_incl_tax': '£16.73', 'tax': '£0.00', 'availability': 'In stock (14 available)', 'stock_from_table': 'In stock (14 available)', 'number_of_reviews': '0', 'num_reviews': 0}\n"
          ]
        }
      ],
      "source": [
        "print(f\"\\n총 {len(final_book_data_list)}개의 책 상세 정보 수집 완료.\")\n",
        "if final_book_data_list:\n",
        "    print(\"수집된 첫 번째 책 정보:\")\n",
        "    print(final_book_data_list[0])"
      ],
      "id": "oyou97UVCWUD_student_print_results"
    },
    {
      "cell_type": "markdown",
      "metadata": {
        "id": "P5fQa61TCWUE"
      },
      "source": [
        "## 💾 4단계: 데이터 통합 및 저장\n",
        "\n",
        "수집된 모든 책 정보를 Pandas DataFrame으로 변환하여 분석 및 저장이 용이하도록 합니다."
      ],
      "id": "P5fQa61TCWUE"
    },
    {
      "cell_type": "markdown",
      "metadata": {
        "id": "9dus2QTNCWUE"
      },
      "source": [
        "**4.1. Pandas DataFrame으로 변환**\n",
        "\n",
        "리스트 형태로 저장된 책 데이터(`final_book_data_list`)를 DataFrame으로 만듭니다."
      ],
      "id": "9dus2QTNCWUE"
    },
    {
      "cell_type": "code",
      "execution_count": null,
      "metadata": {
        "id": "m81dfW0DCWUG_student_create_df"
      },
      "outputs": [],
      "source": [
        "if final_book_data_list:\n",
        "    df_books = pd.DataFrame(final_book_data_list) # DataFrame\n",
        "    print(\"\\n--- Pandas DataFrame 변환 결과 (상위 5개) ---\")\n",
        "    #pd.set_option('display.max_columns', None) # 'display.max_columns'\n",
        "    #pd.set_option('display.width', 1000)      # 'display.width', 1000\n",
        "    print(df_books.head()) # head\n",
        "    print(\"\\n--- DataFrame 정보 ---\")\n",
        "    df_books.info() #"
      ],
      "id": "m81dfW0DCWUG_student_create_df"
    },
    {
      "cell_type": "code",
      "execution_count": null,
      "metadata": {
        "id": "m81dfW0DCWUG_student_df_describe"
      },
      "outputs": [],
      "source": [
        "print(\"\\n--- 기술 통계 (숫자형 데이터) ---\")\n",
        "print(df_books.describe(include='number')) # describe, 'number'"
      ],
      "id": "m81dfW0DCWUG_student_df_describe"
    },
    {
      "cell_type": "code",
      "execution_count": null,
      "metadata": {
        "id": "m81dfW0DCWUG_student_else_empty_df"
      },
      "outputs": [],
      "source": [
        "if not final_book_data_list:\n",
        "    print(\"\\n수집된 데이터가 없어 DataFrame으로 변환할 수 없습니다.\")\n",
        "    df_books = pd.DataFrame() # 빈 DataFrame 생성"
      ],
      "id": "m81dfW0DCWUG_student_else_empty_df"
    },
    {
      "cell_type": "markdown",
      "metadata": {
        "id": "iKZpoqX9CWUG"
      },
      "source": [
        "**4.2. CSV 파일로 저장**\n",
        "\n",
        "생성된 DataFrame을 CSV 파일로 저장하여 나중에 사용하거나 다른 도구로 분석할 수 있도록 합니다."
      ],
      "id": "iKZpoqX9CWUG"
    },
    {
      "cell_type": "code",
      "execution_count": null,
      "metadata": {
        "id": "vPJZp4MzCWUH_student_if_not_empty",
        "colab": {
          "base_uri": "https://localhost:8080/"
        },
        "outputId": "681a91e3-452b-41b0-dfb8-2df1f8050cb4"
      },
      "outputs": [
        {
          "output_type": "stream",
          "name": "stdout",
          "text": [
            "\n",
            "'books_scraped_advanced.csv' 파일로 저장 완료!\n",
            "Colab 환경의 좌측 '파일' 탭에서 해당 파일을 확인하고 다운로드할 수 있습니다.\n"
          ]
        }
      ],
      "source": [
        "if not df_books.empty:\n",
        "    csv_filename = 'books_scraped_advanced.csv' # 'books_scraped_advanced.csv'\n",
        "    try:\n",
        "        df_books.to_csv(csv_filename, index=False, encoding='utf-8-sig') # to_csv, csv_filename, False, 'utf-8-sig'\n",
        "        print(f\"\\n'{csv_filename}' 파일로 저장 완료!\")\n",
        "        print(\"Colab 환경의 좌측 '파일' 탭에서 해당 파일을 확인하고 다운로드할 수 있습니다.\")\n",
        "    except Exception as e:\n",
        "        print(f\"CSV 파일 저장 중 오류 발생: {e}\")\n",
        "else:\n",
        "    print(\"\\n저장할 데이터가 없습니다.\")\n"
      ],
      "id": "vPJZp4MzCWUH_student_if_not_empty"
    },
    {
      "cell_type": "code",
      "execution_count": null,
      "metadata": {
        "id": "vPJZp4MzCWUH_student_filename"
      },
      "outputs": [],
      "source": [],
      "id": "vPJZp4MzCWUH_student_filename"
    },
    {
      "cell_type": "code",
      "execution_count": null,
      "metadata": {
        "id": "vPJZp4MzCWUH_student_try_save"
      },
      "outputs": [],
      "source": [],
      "id": "vPJZp4MzCWUH_student_try_save"
    },
    {
      "cell_type": "code",
      "execution_count": null,
      "metadata": {
        "id": "vPJZp4MzCWUH_student_else_no_data"
      },
      "outputs": [],
      "source": [],
      "id": "vPJZp4MzCWUH_student_else_no_data"
    },
    {
      "cell_type": "markdown",
      "metadata": {
        "id": "15KgstF9CWUH"
      },
      "source": [],
      "id": "15KgstF9CWUH"
    }
  ]
}